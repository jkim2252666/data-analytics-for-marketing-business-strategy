{
 "cells": [
  {
   "cell_type": "code",
   "execution_count": 1,
   "id": "89b4704c",
   "metadata": {},
   "outputs": [],
   "source": [
    "import numpy as np\n",
    "import matplotlib.pyplot as plt\n",
    "import pandas as pd"
   ]
  },
  {
   "cell_type": "code",
   "execution_count": 2,
   "id": "cbfc402e",
   "metadata": {},
   "outputs": [],
   "source": [
    "dataset_train=pd.read_csv('training_data.csv')\n",
    "training_set=dataset_train.iloc[:,1:2].values"
   ]
  },
  {
   "cell_type": "code",
   "execution_count": 3,
   "id": "a7ebc585",
   "metadata": {},
   "outputs": [
    {
     "name": "stdout",
     "output_type": "stream",
     "text": [
      "            date       Open       High        Low      Close       Volume\n",
      "0       1/3/2012  14.621429  14.732143  14.607143  14.686786  302220800.0\n",
      "1       1/4/2012  14.642857  14.810000  14.617143  14.765714  260022000.0\n",
      "2       1/5/2012  14.819643  14.948214  14.738214  14.929643  271269600.0\n",
      "3       1/6/2012  14.991786  15.098214  14.972143  15.085714  318292800.0\n",
      "4       1/9/2012  15.196429  15.276786  15.048214  15.061786  394024400.0\n",
      "...          ...        ...        ...        ...        ...          ...\n",
      "1504  12/22/2017  43.670000  43.855000  43.625000  43.752500   65397600.0\n",
      "1505  12/26/2017  42.700000  42.867500  42.420000  42.642500  132742000.0\n",
      "1506  12/27/2017  42.525000  42.695000  42.427500  42.650000   85992800.0\n",
      "1507  12/28/2017  42.750000  42.962500  42.620000  42.770000   65920800.0\n",
      "1508  12/29/2017  42.630000  42.647500  42.305000  42.307500  103999600.0\n",
      "\n",
      "[1509 rows x 6 columns]\n"
     ]
    }
   ],
   "source": [
    "print(dataset_train)"
   ]
  },
  {
   "cell_type": "code",
   "execution_count": 4,
   "id": "8752c9c5",
   "metadata": {},
   "outputs": [],
   "source": [
    "from sklearn.preprocessing import MinMaxScaler\n",
    "sc=MinMaxScaler(feature_range=(0,1))\n",
    "training_set_scaled=sc.fit_transform(training_set)"
   ]
  },
  {
   "cell_type": "code",
   "execution_count": 5,
   "id": "bad4fecd",
   "metadata": {},
   "outputs": [],
   "source": [
    "x_train=[]\n",
    "y_train=[]\n",
    "for i in range (60,1508):\n",
    "    x_train.append(training_set_scaled[i-60:i,0])\n",
    "    y_train.append(training_set_scaled[i,0])\n",
    "x_train, y_train = np.array(x_train), np.array(y_train)\n",
    "\n",
    "x_train=np.reshape(x_train, (x_train.shape[0],x_train.shape[1],1))"
   ]
  },
  {
   "cell_type": "code",
   "execution_count": 23,
   "id": "17ba255f",
   "metadata": {},
   "outputs": [],
   "source": [
    "#!pip install keras"
   ]
  },
  {
   "cell_type": "code",
   "execution_count": 7,
   "id": "f388b130",
   "metadata": {},
   "outputs": [],
   "source": [
    "\n",
    "#!pip install tensorflow"
   ]
  },
  {
   "cell_type": "code",
   "execution_count": 8,
   "id": "263a42a2",
   "metadata": {},
   "outputs": [],
   "source": [
    "#import tensorflow as tf"
   ]
  },
  {
   "cell_type": "code",
   "execution_count": 6,
   "id": "123c5478",
   "metadata": {},
   "outputs": [],
   "source": [
    "from keras.models import Sequential\n",
    "from keras.layers import Dense\n",
    "from keras.layers import LSTM\n",
    "from keras.layers import Dropout"
   ]
  },
  {
   "cell_type": "code",
   "execution_count": 7,
   "id": "113fc5ee",
   "metadata": {},
   "outputs": [],
   "source": [
    "regressor=Sequential()"
   ]
  },
  {
   "cell_type": "code",
   "execution_count": 8,
   "id": "152342a6",
   "metadata": {},
   "outputs": [],
   "source": [
    "regressor.add(LSTM(units=50,return_sequences=True,input_shape=(x_train.shape[1],1)))\n",
    "regressor.add(Dropout(0.2))"
   ]
  },
  {
   "cell_type": "code",
   "execution_count": 9,
   "id": "3f31067d",
   "metadata": {},
   "outputs": [],
   "source": [
    "regressor.add(LSTM(units=50,return_sequences=True))\n",
    "regressor.add(Dropout(0.2))"
   ]
  },
  {
   "cell_type": "code",
   "execution_count": 10,
   "id": "15cd521d",
   "metadata": {},
   "outputs": [],
   "source": [
    "regressor.add(LSTM(units=50,return_sequences=True))\n",
    "regressor.add(Dropout(0.2))"
   ]
  },
  {
   "cell_type": "code",
   "execution_count": 11,
   "id": "e06ff808",
   "metadata": {},
   "outputs": [],
   "source": [
    "regressor.add(LSTM(units=50))\n",
    "regressor.add(Dropout(0.2))"
   ]
  },
  {
   "cell_type": "code",
   "execution_count": 12,
   "id": "124b9f1f",
   "metadata": {},
   "outputs": [],
   "source": [
    "regressor.add(Dense(units=1))"
   ]
  },
  {
   "cell_type": "code",
   "execution_count": 13,
   "id": "dc6a8e06",
   "metadata": {},
   "outputs": [],
   "source": [
    "regressor.compile(optimizer='adam',loss='mean_squared_error')"
   ]
  },
  {
   "cell_type": "code",
   "execution_count": 14,
   "id": "2de56309",
   "metadata": {},
   "outputs": [
    {
     "name": "stdout",
     "output_type": "stream",
     "text": [
      "Epoch 1/20\n",
      "46/46 [==============================] - 8s 62ms/step - loss: 0.0340\n",
      "Epoch 2/20\n",
      "46/46 [==============================] - 3s 61ms/step - loss: 0.0056\n",
      "Epoch 3/20\n",
      "46/46 [==============================] - 3s 61ms/step - loss: 0.0045\n",
      "Epoch 4/20\n",
      "46/46 [==============================] - 3s 61ms/step - loss: 0.0041\n",
      "Epoch 5/20\n",
      "46/46 [==============================] - 3s 61ms/step - loss: 0.0036\n",
      "Epoch 6/20\n",
      "46/46 [==============================] - 3s 61ms/step - loss: 0.0035\n",
      "Epoch 7/20\n",
      "46/46 [==============================] - 3s 63ms/step - loss: 0.0036\n",
      "Epoch 8/20\n",
      "46/46 [==============================] - 3s 62ms/step - loss: 0.0035\n",
      "Epoch 9/20\n",
      "46/46 [==============================] - 3s 62ms/step - loss: 0.0034\n",
      "Epoch 10/20\n",
      "46/46 [==============================] - 3s 62ms/step - loss: 0.0041\n",
      "Epoch 11/20\n",
      "46/46 [==============================] - 3s 62ms/step - loss: 0.0031\n",
      "Epoch 12/20\n",
      "46/46 [==============================] - 3s 61ms/step - loss: 0.0029\n",
      "Epoch 13/20\n",
      "46/46 [==============================] - 3s 61ms/step - loss: 0.0028\n",
      "Epoch 14/20\n",
      "46/46 [==============================] - 3s 62ms/step - loss: 0.0026\n",
      "Epoch 15/20\n",
      "46/46 [==============================] - 3s 62ms/step - loss: 0.0026\n",
      "Epoch 16/20\n",
      "46/46 [==============================] - 3s 62ms/step - loss: 0.0028\n",
      "Epoch 17/20\n",
      "46/46 [==============================] - 3s 62ms/step - loss: 0.0029\n",
      "Epoch 18/20\n",
      "46/46 [==============================] - 3s 62ms/step - loss: 0.0025\n",
      "Epoch 19/20\n",
      "46/46 [==============================] - 3s 61ms/step - loss: 0.0028\n",
      "Epoch 20/20\n",
      "46/46 [==============================] - 3s 61ms/step - loss: 0.0034\n"
     ]
    },
    {
     "data": {
      "text/plain": [
       "<keras.callbacks.History at 0x2bfe3c53940>"
      ]
     },
     "execution_count": 14,
     "metadata": {},
     "output_type": "execute_result"
    }
   ],
   "source": [
    "regressor.fit(x_train,y_train,epochs=20,batch_size=32)"
   ]
  },
  {
   "cell_type": "code",
   "execution_count": 15,
   "id": "d2cce6e5",
   "metadata": {},
   "outputs": [],
   "source": [
    "dataset_test=pd.read_csv('testing_data.csv')\n",
    "real_stock_price=dataset_test.iloc[:,1:2].values"
   ]
  },
  {
   "cell_type": "code",
   "execution_count": 16,
   "id": "b64f964d",
   "metadata": {},
   "outputs": [
    {
     "name": "stdout",
     "output_type": "stream",
     "text": [
      "           date     Open     High      Low    Close     Volume\n",
      "0      1/2/2018  42.5400  43.0750  42.3150  43.0650  102223600\n",
      "1      1/3/2018  43.1325  43.6375  42.9900  43.0575  118071600\n",
      "2      1/4/2018  43.1350  43.3675  43.0200  43.2575   89738400\n",
      "3      1/5/2018  43.3600  43.8425  43.2625  43.7500   94640000\n",
      "4      1/8/2018  43.5875  43.9025  43.4825  43.5875   82271200\n",
      "..          ...      ...      ...      ...      ...        ...\n",
      "246  12/24/2018  37.0375  37.8875  36.6475  36.7075  148676800\n",
      "247  12/26/2018  37.0750  39.3075  36.6800  39.2925  234330000\n",
      "248  12/27/2018  38.9600  39.1925  37.5175  39.0375  212468400\n",
      "249  12/28/2018  39.3750  39.6300  38.6375  39.0575  169165600\n",
      "250  12/31/2018  39.6325  39.8400  39.1200  39.4350  140014000\n",
      "\n",
      "[251 rows x 6 columns]\n"
     ]
    }
   ],
   "source": [
    "print(dataset_test)"
   ]
  },
  {
   "cell_type": "code",
   "execution_count": 19,
   "id": "a5137f46",
   "metadata": {},
   "outputs": [
    {
     "name": "stdout",
     "output_type": "stream",
     "text": [
      "1/1 [==============================] - 0s 33ms/step\n"
     ]
    }
   ],
   "source": [
    "dataset_total=pd.concat((dataset_train['Open'],dataset_test['Open']),axis=0)\n",
    "inputs=dataset_total[len(dataset_total)-len(dataset_test)-60:].values\n",
    "inputs=inputs.reshape(-1,1)\n",
    "inputs=sc.transform(inputs)\n",
    "x_test=[]\n",
    "for i in range(60,80):\n",
    "    x_test.append(inputs[i-60:i,0])\n",
    "x_test=np.array(x_test)\n",
    "x_test=np.reshape(x_test, (x_test.shape[0],x_test.shape[1],1))\n",
    "predicted_stock_price=regressor.predict(x_test)\n",
    "predicted_stock_price=sc.inverse_transform(predicted_stock_price)"
   ]
  },
  {
   "cell_type": "code",
   "execution_count": 36,
   "id": "5885c283",
   "metadata": {},
   "outputs": [
    {
     "name": "stdout",
     "output_type": "stream",
     "text": [
      "1/1 [==============================] - 0s 32ms/step\n"
     ]
    }
   ],
   "source": [
    "predicted_stock_price=regressor.predict(x_test)\n"
   ]
  },
  {
   "cell_type": "code",
   "execution_count": 30,
   "id": "dbe9b56a",
   "metadata": {},
   "outputs": [
    {
     "name": "stdout",
     "output_type": "stream",
     "text": [
      "[[[0.82512533]\n",
      "  [0.83172595]\n",
      "  [0.83874433]\n",
      "  ...\n",
      "  [0.96398902]\n",
      "  [0.95814037]\n",
      "  [0.96566006]]\n",
      "\n",
      " [[0.83172595]\n",
      "  [0.83874433]\n",
      "  [0.84083314]\n",
      "  ...\n",
      "  [0.95814037]\n",
      "  [0.96566006]\n",
      "  [0.96164956]]\n",
      "\n",
      " [[0.83874433]\n",
      "  [0.84083314]\n",
      "  [0.84008117]\n",
      "  ...\n",
      "  [0.96566006]\n",
      "  [0.96164956]\n",
      "  [0.95864168]]\n",
      "\n",
      " ...\n",
      "\n",
      " [[0.90625448]\n",
      "  [0.93975889]\n",
      "  [0.95621867]\n",
      "  ...\n",
      "  [1.01829792]\n",
      "  [1.01829792]\n",
      "  [1.01788016]]\n",
      "\n",
      " [[0.93975889]\n",
      "  [0.95621867]\n",
      "  [0.92889711]\n",
      "  ...\n",
      "  [1.01829792]\n",
      "  [1.01788016]\n",
      "  [0.99498687]]\n",
      "\n",
      " [[0.95621867]\n",
      "  [0.92889711]\n",
      "  [0.99072571]\n",
      "  ...\n",
      "  [1.01788016]\n",
      "  [0.99498687]\n",
      "  [0.97401528]]]\n"
     ]
    }
   ],
   "source": [
    "print(x_test)"
   ]
  },
  {
   "cell_type": "code",
   "execution_count": 29,
   "id": "3ac4a3b6",
   "metadata": {},
   "outputs": [
    {
     "name": "stdout",
     "output_type": "stream",
     "text": [
      "Model: \"sequential\"\n",
      "_________________________________________________________________\n",
      " Layer (type)                Output Shape              Param #   \n",
      "=================================================================\n",
      " lstm (LSTM)                 (None, 59, 50)            10400     \n",
      "                                                                 \n",
      " dropout (Dropout)           (None, 59, 50)            0         \n",
      "                                                                 \n",
      " lstm_1 (LSTM)               (None, 59, 50)            20200     \n",
      "                                                                 \n",
      " dropout_1 (Dropout)         (None, 59, 50)            0         \n",
      "                                                                 \n",
      " lstm_2 (LSTM)               (None, 59, 50)            20200     \n",
      "                                                                 \n",
      " dropout_2 (Dropout)         (None, 59, 50)            0         \n",
      "                                                                 \n",
      " lstm_3 (LSTM)               (None, 50)                20200     \n",
      "                                                                 \n",
      " dropout_3 (Dropout)         (None, 50)                0         \n",
      "                                                                 \n",
      " dense (Dense)               (None, 1)                 51        \n",
      "                                                                 \n",
      "=================================================================\n",
      "Total params: 71,051\n",
      "Trainable params: 71,051\n",
      "Non-trainable params: 0\n",
      "_________________________________________________________________\n",
      "None\n"
     ]
    }
   ],
   "source": [
    "print(regressor.summary())"
   ]
  },
  {
   "cell_type": "code",
   "execution_count": 20,
   "id": "e4dad34d",
   "metadata": {},
   "outputs": [
    {
     "data": {
      "image/png": "[encoded data removed]",
      "text/plain": [
       "<Figure size 432x288 with 1 Axes>"
      ]
     },
     "metadata": {
      "needs_background": "light"
     },
     "output_type": "display_data"
    }
   ],
   "source": [
    "plt.plot(real_stock_price,color='red',label='real Apple stock price')\n",
    "plt.plot(predicted_stock_price,color='blue',label='predicted Apple stock price')\n",
    "plt.title('Apple stock price prediction')\n",
    "plt.xlabel('Time')\n",
    "plt.ylabel('Apple stock price')\n",
    "plt.legend()\n",
    "plt.show()"
   ]
  },
  {
   "cell_type": "code",
   "execution_count": null,
   "id": "91c0a424",
   "metadata": {},
   "outputs": [],
   "source": []
  }
 ],
 "metadata": {
  "kernelspec": {
   "display_name": "Python 3 (ipykernel)",
   "language": "python",
   "name": "python3"
  },
  "language_info": {
   "codemirror_mode": {
    "name": "ipython",
    "version": 3
   },
   "file_extension": ".py",
   "mimetype": "text/x-python",
   "name": "python",
   "nbconvert_exporter": "python",
   "pygments_lexer": "ipython3",
   "version": "3.10.4"
  }
 },
 "nbformat": 4,
 "nbformat_minor": 5
}
